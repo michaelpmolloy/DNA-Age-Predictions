{
 "cells": [
  {
   "cell_type": "code",
   "execution_count": 9,
   "id": "16640ce8-a4d5-41df-93bc-1de68b9401f0",
   "metadata": {},
   "outputs": [
    {
     "ename": "SyntaxError",
     "evalue": "invalid syntax (pywrap_tensorflow_internal.py, line 114)",
     "output_type": "error",
     "traceback": [
      "Traceback \u001b[0;36m(most recent call last)\u001b[0m:\n",
      "\u001b[0m  File \u001b[1;32m/Library/Frameworks/Python.framework/Versions/3.13/lib/python3.13/site-packages/IPython/core/interactiveshell.py:3579\u001b[0m in \u001b[1;35mrun_code\u001b[0m\n    exec(code_obj, self.user_global_ns, self.user_ns)\u001b[0m\n",
      "\u001b[0m  Cell \u001b[1;32mIn[9], line 4\u001b[0m\n    import tensorflow as tf\u001b[0m\n",
      "\u001b[0m  File \u001b[1;32m/Library/Frameworks/Python.framework/Versions/3.13/lib/python3.13/site-packages/tensorflow/__init__.py:24\u001b[0m\n    from tensorflow.python import pywrap_tensorflow  # pylint: disable=unused-import\u001b[0m\n",
      "\u001b[0m  File \u001b[1;32m/Library/Frameworks/Python.framework/Versions/3.13/lib/python3.13/site-packages/tensorflow/python/__init__.py:49\u001b[0m\n    from tensorflow.python import pywrap_tensorflow\u001b[0m\n",
      "\u001b[0;36m  File \u001b[0;32m/Library/Frameworks/Python.framework/Versions/3.13/lib/python3.13/site-packages/tensorflow/python/pywrap_tensorflow.py:58\u001b[0;36m\n\u001b[0;31m    from tensorflow.python.pywrap_tensorflow_internal import *\u001b[0;36m\n",
      "\u001b[0;36m  File \u001b[0;32m/Library/Frameworks/Python.framework/Versions/3.13/lib/python3.13/site-packages/tensorflow/python/pywrap_tensorflow_internal.py:114\u001b[0;36m\u001b[0m\n\u001b[0;31m    def TFE_ContextOptionsSetAsync(arg1, async):\u001b[0m\n\u001b[0m                                         ^\u001b[0m\n\u001b[0;31mSyntaxError\u001b[0m\u001b[0;31m:\u001b[0m invalid syntax\n"
     ]
    }
   ],
   "source": [
    "### Importing dependencies\n",
    "import csv\n",
    "import random\n",
    "import tensorflow as tf\n",
    "from tensorflow import keras \n",
    "import numpy as np\n",
    "import matplotlib.pyplot as plt\n",
    "import pandas as pd\n",
    "from keras.models import load_model\n",
    "from sklearn import preprocessing as pre\n",
    "from sklearn.model_selection import train_test_split\n",
    "from sklearn.linear_model import LinearRegression\n",
    "from sklearn.metrics import root_mean_squared_error\n",
    "from sklearn.metrics import mean_squared_error\n",
    "from sklearn.metrics import r2_score"
   ]
  },
  {
   "cell_type": "code",
   "execution_count": null,
   "id": "2540ae49-9cb7-4da9-ae99-6393c6c7950b",
   "metadata": {},
   "outputs": [],
   "source": []
  },
  {
   "cell_type": "code",
   "execution_count": 8,
   "id": "b904f9f2-3143-4e83-a0d1-3f3278fd45d7",
   "metadata": {},
   "outputs": [
    {
     "ename": "NameError",
     "evalue": "name 'pd' is not defined",
     "output_type": "error",
     "traceback": [
      "\u001b[0;31m---------------------------------------------------------------------------\u001b[0m",
      "\u001b[0;31mNameError\u001b[0m                                 Traceback (most recent call last)",
      "Cell \u001b[0;32mIn[8], line 1\u001b[0m\n\u001b[0;32m----> 1\u001b[0m x_train \u001b[38;5;241m=\u001b[39m \u001b[43mpd\u001b[49m\u001b[38;5;241m.\u001b[39mread_csv(\u001b[38;5;124m\"\u001b[39m\u001b[38;5;124mxTrainPCA.csv\u001b[39m\u001b[38;5;124m\"\u001b[39m,index_col\u001b[38;5;241m=\u001b[39m\u001b[38;5;241m0\u001b[39m)\n\u001b[1;32m      2\u001b[0m x_test \u001b[38;5;241m=\u001b[39m pd\u001b[38;5;241m.\u001b[39mread_csv(\u001b[38;5;124m\"\u001b[39m\u001b[38;5;124mxTestPCA.csv\u001b[39m\u001b[38;5;124m\"\u001b[39m,index_col\u001b[38;5;241m=\u001b[39m\u001b[38;5;241m0\u001b[39m)\n\u001b[1;32m      3\u001b[0m y_train \u001b[38;5;241m=\u001b[39m pd\u001b[38;5;241m.\u001b[39mread_csv(\u001b[38;5;124m\"\u001b[39m\u001b[38;5;124myTrainPCA.csv\u001b[39m\u001b[38;5;124m\"\u001b[39m,index_col\u001b[38;5;241m=\u001b[39m\u001b[38;5;241m0\u001b[39m)\n",
      "\u001b[0;31mNameError\u001b[0m: name 'pd' is not defined"
     ]
    }
   ],
   "source": [
    "x_train = pd.read_csv(\"xTrainPCA.csv\",index_col=0)\n",
    "x_test = pd.read_csv(\"xTestPCA.csv\",index_col=0)\n",
    "y_train = pd.read_csv(\"yTrainPCA.csv\",index_col=0)\n",
    "y_test = pd.read_csv(\"yTestPCA.csv\",index_col=0)\n",
    "\n",
    "\n",
    "\n",
    "#rowNames <- y_test.axes[0].tolist()"
   ]
  },
  {
   "cell_type": "code",
   "execution_count": null,
   "id": "e2c712e5-6417-46fa-a391-4be60a0c6680",
   "metadata": {},
   "outputs": [],
   "source": [
    "\n",
    "x_train = np.asarray(pre.MinMaxScaler().fit_transform(x_train)).astype(np.float64)\n",
    "x_test = np.asarray(pre.MinMaxScaler().fit_transform(x_test)).astype(np.float64)"
   ]
  },
  {
   "cell_type": "code",
   "execution_count": null,
   "id": "ed903640-2f1c-47fb-8618-2c469ea28bb2",
   "metadata": {
    "scrolled": true
   },
   "outputs": [],
   "source": [
    "def build_model():\n",
    "  model = keras.Sequential([\n",
    "    keras.layers.Dense(60, activation='relu', input_shape = (60,)),\n",
    "    keras.layers.Dropout(0.2),\n",
    "    keras.layers.Dense(40, activation='relu'),\n",
    "    keras.layers.Dropout(0.2),\n",
    "    keras.layers.Dense(20 , activation='relu'),\n",
    "    keras.layers.Dropout(0.2),\n",
    "    keras.layers.Dense(10, activation='relu'),\n",
    "    keras.layers.Dense(5, activation='relu'),\n",
    "    keras.layers.Dense(1)\n",
    "  ])\n",
    "\n",
    "  optimizer = tf.keras.optimizers.RMSprop(0.001)\n",
    "\n",
    "  model.compile(loss='mse',\n",
    "                optimizer=optimizer,\n",
    "                metrics=['mse', 'mae'])\n",
    "  return model\n",
    "\n",
    "model = build_model()\n",
    "model.summary()\n",
    "\n",
    "class PrintDot(keras.callbacks.Callback):\n",
    "  def on_epoch_end(self, epoch, logs):\n",
    "    if epoch % 100 == 0: print('')\n",
    "    print('.', end='')"
   ]
  },
  {
   "cell_type": "code",
   "execution_count": null,
   "id": "0897b0b5-40f5-4fbb-8c08-f507d592aaaa",
   "metadata": {},
   "outputs": [],
   "source": [
    "\n",
    "\n",
    "\n",
    "EPOCHS = 2000\n",
    "\n",
    "early_stop = keras.callbacks.EarlyStopping(monitor='val_loss', patience=500)\n",
    "\n",
    "#history = model.fit(x_train, y_train, epochs=EPOCHS, batch_size = 64, validation_split = 0.2, verbose=0, callbacks=PrintDot())"
   ]
  },
  {
   "cell_type": "code",
   "execution_count": null,
   "id": "1df32f64-97b5-4e61-a1e8-90ec20302593",
   "metadata": {},
   "outputs": [],
   "source": [
    "model = load_model(\"PCAmodel.keras\")"
   ]
  },
  {
   "cell_type": "code",
   "execution_count": 6,
   "id": "a2085884-0a98-4c91-9075-e2bbd72dc500",
   "metadata": {},
   "outputs": [
    {
     "ename": "NameError",
     "evalue": "name 'model' is not defined",
     "output_type": "error",
     "traceback": [
      "\u001b[0;31m---------------------------------------------------------------------------\u001b[0m",
      "\u001b[0;31mNameError\u001b[0m                                 Traceback (most recent call last)",
      "Cell \u001b[0;32mIn[6], line 1\u001b[0m\n\u001b[0;32m----> 1\u001b[0m test_predictions \u001b[38;5;241m=\u001b[39m \u001b[43mmodel\u001b[49m\u001b[38;5;241m.\u001b[39mpredict(x_test)\n\u001b[1;32m      2\u001b[0m \u001b[38;5;28mprint\u001b[39m(root_mean_squared_error(test_predictions, y_test))\n\u001b[1;32m      3\u001b[0m \u001b[38;5;28mprint\u001b[39m(mean_squared_error(y_test, test_predictions))\n",
      "\u001b[0;31mNameError\u001b[0m: name 'model' is not defined"
     ]
    }
   ],
   "source": [
    "\n",
    "test_predictions = model.predict(x_test)\n",
    "print(root_mean_squared_error(test_predictions, y_test))\n",
    "print(mean_squared_error(y_test, test_predictions))\n",
    "print(r2_score(y_test, test_predictions))"
   ]
  },
  {
   "cell_type": "code",
   "execution_count": null,
   "id": "3cfec1b6-a0a0-4479-b4e8-0965d1056ecf",
   "metadata": {},
   "outputs": [],
   "source": [
    "y_test[\"PCApreds\"] = test_predictions\n",
    "y_test.to_csv('PCApreds.csv')"
   ]
  },
  {
   "cell_type": "code",
   "execution_count": null,
   "id": "e03bc1fb-c566-441d-9004-88dfad643c1c",
   "metadata": {},
   "outputs": [],
   "source": [
    "#saving a model\n",
    "\n",
    "model.save(\"PCAmodel.keras\")"
   ]
  },
  {
   "cell_type": "code",
   "execution_count": null,
   "id": "49beca5c-5710-4cf7-8d26-8136cf14621f",
   "metadata": {},
   "outputs": [],
   "source": [
    "plt.scatter(y_test, test_predictions)\n",
    "#plt.annotate(\"MSE: {:.3f}\".format(mean_squared_error(test_predictions, y_test)), (0,55))\n",
    "plt.annotate(\"RMSE: {:.3f}\".format(root_mean_squared_error(test_predictions, y_test)), (5,50), size = 15 )\n",
    "plt.axline((0, 0), slope=1)\n",
    "plt.ylabel(\"Predictioned age\")\n",
    "plt.xlabel(\"Real age\")\n",
    "plt.axis('square')\n",
    "plt.savefig(\"plotSaves/pcaPred60.png\")\n",
    "plt.show()\n"
   ]
  },
  {
   "cell_type": "code",
   "execution_count": null,
   "id": "4eb10504-ab39-42fb-a736-a19ceb0d7341",
   "metadata": {},
   "outputs": [],
   "source": [
    "test_predictions = pd.DataFrame(test_predictions)\n",
    "test_predictions.to_csv('PCApreds.csv')"
   ]
  },
  {
   "cell_type": "code",
   "execution_count": null,
   "id": "928a222a-c9bc-4393-a613-6976ecd9594f",
   "metadata": {},
   "outputs": [],
   "source": [
    "#elasticnetPreds.size\n",
    "\n",
    "umapPreds.size\n"
   ]
  },
  {
   "cell_type": "code",
   "execution_count": null,
   "id": "84f1be29-7328-4a4e-adc0-ddcc7f170a3a",
   "metadata": {},
   "outputs": [],
   "source": [
    "#Plotting all the predictions on one graph \n",
    "umapPreds = pd.read_csv(\"UMAPpreds.csv\",index_col=0, header = 0)\n",
    "elasticnetPreds = pd.read_csv(\"elasticnetPreds.csv\",index_col=0)"
   ]
  },
  {
   "cell_type": "code",
   "execution_count": null,
   "id": "65a1db00-f402-4adf-88dd-021081aacbe8",
   "metadata": {},
   "outputs": [],
   "source": [
    "plt.scatter(y_test, test_predictions, color = \"red\", label = \"PCA neural net\") \n",
    "plt.scatter(y_test, umapPreds[\"UMAPpreds\"], color =  \"blue\", label = \"UMAP neural net\")\n",
    "plt.scatter(y_test, elasticnetPreds[\"s1\"], color = \"green\", label = \"Elastic-net\")\n",
    "plt.ylabel(\"Predictioned age\")\n",
    "plt.xlabel(\"Real age\")\n",
    "plt.axis('square')\n",
    "plt.xlim(0,60)\n",
    "plt.ylim(0,60)\n",
    "plt.legend(loc = \"upper left\")\n",
    "plt.axline((0, 0), slope=1)\n",
    "plt.savefig(\"allModels.png\")"
   ]
  },
  {
   "cell_type": "code",
   "execution_count": null,
   "id": "6ba36b4d-2ad2-4429-bc83-3009d8b23948",
   "metadata": {},
   "outputs": [],
   "source": [
    "plt.scatter(y_test, test_predictions, color = \"red\", label = \"PCA neural net\") \n",
    "plt.scatter(y_test, umapPreds[\"UMAPpreds\"], color =  \"blue\", label = \"UMAP neural net\")\n",
    "plt.scatter(y_test, elasticnetPreds[\"s1\"], color = \"green\", label = \"Elastic-net\")\n",
    "plt.ylabel(\"Predictioned age\")\n",
    "plt.xlabel(\"Real age\")\n",
    "plt.axis('square')\n",
    "plt.legend(loc = \"upper left\")\n",
    "plt.axline((0, 0), slope=1)"
   ]
  },
  {
   "cell_type": "code",
   "execution_count": null,
   "id": "0cede481-187f-4e87-afd2-b5d590041ad2",
   "metadata": {},
   "outputs": [],
   "source": [
    "y_test[2]"
   ]
  },
  {
   "cell_type": "code",
   "execution_count": null,
   "id": "5657e8c0-ecc2-46b8-b0ac-65c003954f0c",
   "metadata": {},
   "outputs": [],
   "source": [
    "plt.plot(y_test, test_predictions, color = \"red\", label = \"PCA neural net\") \n",
    "plt.plot(y_test, umapPreds[\"UMAPpreds\"], color =  \"blue\", label = \"UMAP neural net\")\n",
    "plt.plot(y_test, elasticnetPreds[\"s1\"], color = \"green\", label = \"Elastic-net\")\n",
    "plt.ylabel(\"Predictioned age\")\n",
    "plt.xlabel(\"Real age\")\n",
    "plt.axis('square')\n",
    "plt.legend(loc = \"upper left\")\n",
    "plt.axline((0, 0), slope=1)"
   ]
  },
  {
   "cell_type": "code",
   "execution_count": null,
   "id": "d7d44eca-7ca7-402c-a9ab-a1fb808fbadd",
   "metadata": {},
   "outputs": [],
   "source": [
    "plt.scatter(y_test, elasticnetPreds[\"s1\"])\n",
    "#plt.annotate(\"MSE: {:.3f}\".format(mean_squared_error(test_predictions, y_test)), (0,55))\n",
    "plt.annotate(\"RMSE: {:.3f}\".format(root_mean_squared_error(y_test, elasticnetPreds[\"s1\"])), (5,50), size = 15 )\n",
    "plt.axline((0, 0), slope=1)\n",
    "plt.ylabel(\"Predictioned age\")\n",
    "plt.xlabel(\"Real age\")\n",
    "plt.axis('square')\n",
    "plt.savefig(\"plotSaves/elasticnet.png\")\n",
    "plt.show()\n",
    "\n",
    "print(root_mean_squared_error(y_test, elasticnetPreds[\"s1\"])\n",
    "print(mean_squared_error(y_test, elasticnetPreds[\"s1\"])\n",
    "print(r2_score(y_test, elasticnetPreds[\"s1\"]))"
   ]
  },
  {
   "cell_type": "code",
   "execution_count": null,
   "id": "8bcfd5bf-2e8d-46d3-b2a9-f4a30ffec033",
   "metadata": {},
   "outputs": [],
   "source": [
    "print(root_mean_squared_error(y_test, elasticnetPreds[\"s1\"]))\n",
    "print(mean_squared_error(y_test, elasticnetPreds[\"s1\"]))\n",
    "print(r2_score(y_test, elasticnetPreds[\"s1\"]))"
   ]
  },
  {
   "cell_type": "code",
   "execution_count": null,
   "id": "b23fdb8b-f88a-4245-809a-7fe5ffa5f1e1",
   "metadata": {},
   "outputs": [],
   "source": []
  }
 ],
 "metadata": {
  "kernelspec": {
   "display_name": "Python 3 (ipykernel)",
   "language": "python",
   "name": "python3"
  },
  "language_info": {
   "codemirror_mode": {
    "name": "ipython",
    "version": 3
   },
   "file_extension": ".py",
   "mimetype": "text/x-python",
   "name": "python",
   "nbconvert_exporter": "python",
   "pygments_lexer": "ipython3",
   "version": "3.13.1"
  }
 },
 "nbformat": 4,
 "nbformat_minor": 5
}
